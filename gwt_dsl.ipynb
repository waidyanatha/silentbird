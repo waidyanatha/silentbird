{
 "cells": [
  {
   "cell_type": "markdown",
   "id": "9912e450",
   "metadata": {},
   "source": [
    "# GWT with GraphQL"
   ]
  },
  {
   "cell_type": "code",
   "execution_count": 1,
   "id": "b8bc16fe",
   "metadata": {},
   "outputs": [],
   "source": [
    "from graphene import Boolean, Field, Int, InputObjectType, List, Mutation, NonNull, ObjectType, String, Schema\n",
    "import json"
   ]
  },
  {
   "cell_type": "markdown",
   "id": "be4307ce",
   "metadata": {},
   "source": [
    "### For a stored computed column JSON\n",
    "\n",
    "* The computed column GraphQL object can follow this structure\n",
    "* The _given_, _using_, _when_, and _action_ strings are implementing actual python dataframe syntax\n",
    "* The JSON, CSV, or SQL data must be converted to a single dataframe called \"\\_data\"\n",
    "* Thereafter, the _using_ syntax will use the \\_given_data dataframe, then \\_when will use \\_using_data, and _action_ will use the \\_when_data\n",
    "\n",
    "```someComputedCol {\n",
    "    computeAction(dslInput: \n",
    "    {\n",
    "        given : \"_data.loc[data['UUID'] == '{cust_edi_uuid}']\"\n",
    "        using : \"_given_data[['UUID', 'ETA', 'ETD', 'CONSOL', 'PORT']]\"\n",
    "        when : \"_using_data.loc[_using_df['ETA'] > pd.to_datetime(date.today())]\"\n",
    "        action : \"str(_when_data['ETA'].item())+' '+str(_when_data['CONSOL'].item())+' '+str(_when_data['PORT'].item())\"\n",
    "        })\n",
    "        {\n",
    "        gwt {\n",
    "            given\n",
    "            using\n",
    "            when\n",
    "            action\n",
    "        }\n",
    "        returnVal\n",
    "    }\n",
    "}```"
   ]
  },
  {
   "cell_type": "markdown",
   "id": "358fc563",
   "metadata": {},
   "source": [
    "## Dummy dataset & data types\n",
    "The dataset will contain the data and the types for each of the columns.\n",
    "\n",
    "### Computed Columns"
   ]
  },
  {
   "cell_type": "code",
   "execution_count": 146,
   "id": "3e1d3843",
   "metadata": {},
   "outputs": [],
   "source": [
    "jsonData = {\n",
    "    \"data\": [{\n",
    "        \"UUID\": \"X1234\",\n",
    "        \"CUSTOMER.NAME\": \"Mickey Mouse\",\n",
    "        \"ETA\": \"09/19/2022 13:55:26\",\n",
    "        \"ETD\": \"09/5/2022 13:55:26\",\n",
    "        \"CONSOL\": \"Y\",\n",
    "        \"PORT\": \"LKCMB\"\n",
    "        },\n",
    "        {\n",
    "        \"UUID\": \"Y6789\",\n",
    "        \"CUSTOMER.NAME\": \"Goofy\",\n",
    "        \"ETA\": \"10/20/2022 13:55:26\",\n",
    "        \"ETD\": \"10/5/2022 13:55:26\",\n",
    "        \"CONSOL\": \"N\",\n",
    "        \"PORT\": \"CNCAN\"\n",
    "        }\n",
    "    ]\n",
    "}\n",
    "dtype_dict = {\"UUID\": \"string\",\n",
    "              \"CUSTOMER.NAME\": \"string\",\n",
    "              \"ETA\": \"datetime64[D]\",\n",
    "              \"ETD\": \"datetime64[D]\",\n",
    "              \"CONSOL\": \"bool\",\n",
    "              \"PORT\": \"string\"\n",
    "             }"
   ]
  },
  {
   "cell_type": "markdown",
   "id": "1a320bde",
   "metadata": {},
   "source": [
    "### Set the computed columns data types\n",
    "The data types must be set to perform the conditional logic such as comparing dates"
   ]
  },
  {
   "cell_type": "code",
   "execution_count": 147,
   "id": "9a4cd578",
   "metadata": {},
   "outputs": [
    {
     "name": "stdout",
     "output_type": "stream",
     "text": [
      "UUID                     string\n",
      "CUSTOMER.NAME            string\n",
      "ETA              datetime64[ns]\n",
      "ETD              datetime64[ns]\n",
      "CONSOL                     bool\n",
      "PORT                     string\n",
      "dtype: object\n"
     ]
    }
   ],
   "source": [
    "import pandas as pd\n",
    "import json\n",
    "\n",
    "df_data = pd.DataFrame(jsonData['data'])\n",
    "df_data = df_data.astype(dtype_dict)\n",
    "\n",
    "print(df_data.dtypes)"
   ]
  },
  {
   "cell_type": "markdown",
   "id": "c6e02aab",
   "metadata": {},
   "source": [
    "### Completed Sheet"
   ]
  },
  {
   "cell_type": "code",
   "execution_count": 151,
   "id": "c15ff10c",
   "metadata": {},
   "outputs": [],
   "source": [
    "jsonCompletedData = {\n",
    "    \"data\": [{\n",
    "        \"UUID\": \"X1234\",\n",
    "        \"CUSTOMER.NAME\": \"Mickey Mouse\",\n",
    "        \"DISPAT.DATE\": \"09/19/2022 13:55:26\",\n",
    "        \"COMPLETED.DATE\": \"09/5/2022 13:55:26\",\n",
    "        \"CONSOL\": \"Y\",\n",
    "        \"PORT\": \"LKCMB\"\n",
    "        },\n",
    "        {\n",
    "        \"UUID\": \"Y6789\",\n",
    "        \"CUSTOMER.NAME\": \"Goofy\",\n",
    "        \"DISPAT.DATE\": \"10/20/2022 13:55:26\",\n",
    "        \"COMPLETED.DATE\": \"10/5/2022 13:55:26\",\n",
    "        \"CONSOL\": \"N\",\n",
    "        \"PORT\": \"CNCAN\"\n",
    "        }\n",
    "    ]\n",
    "}\n",
    "completed_dtype_dict = {\"UUID\": \"string\",\n",
    "              \"CUSTOMER.NAME\": \"string\",\n",
    "              \"DISPAT.DATE\": \"datetime64[D]\",\n",
    "              \"COMPLETED.DATE\": \"datetime64[D]\",\n",
    "              \"CONSOL\": \"bool\",\n",
    "              \"PORT\": \"string\"\n",
    "             }"
   ]
  },
  {
   "cell_type": "markdown",
   "id": "47e62b0a",
   "metadata": {},
   "source": [
    "### Set completed sheet data types\n",
    "The data types must be set to perform the conditional logic such as comparing dates"
   ]
  },
  {
   "cell_type": "code",
   "execution_count": 152,
   "id": "897cc492",
   "metadata": {},
   "outputs": [
    {
     "name": "stdout",
     "output_type": "stream",
     "text": [
      "UUID                      string\n",
      "CUSTOMER.NAME             string\n",
      "DISPAT.DATE       datetime64[ns]\n",
      "COMPLETED.DATE    datetime64[ns]\n",
      "CONSOL                      bool\n",
      "PORT                      string\n",
      "dtype: object\n"
     ]
    }
   ],
   "source": [
    "import pandas as pd\n",
    "import json\n",
    "\n",
    "df_data = pd.DataFrame(jsonCompletedData['data'])\n",
    "df_data = df_data.astype(completed_dtype_dict)\n",
    "\n",
    "print(df_data.dtypes)"
   ]
  },
  {
   "cell_type": "code",
   "execution_count": 153,
   "id": "8b774f63",
   "metadata": {},
   "outputs": [
    {
     "name": "stdout",
     "output_type": "stream",
     "text": [
      "given data     UUID CUSTOMER.NAME DISPAT.DATE COMPLETED.DATE  CONSOL   PORT\n",
      "1  Y6789         Goofy  2022-10-20     2022-10-05    True  CNCAN\n",
      "using data     UUID DISPAT.DATE COMPLETED.DATE  CONSOL   PORT\n",
      "1  Y6789  2022-10-20     2022-10-05    True  CNCAN\n",
      "when data 1    False\n",
      "Name: DISPAT.DATE, dtype: bool\n",
      "action data False\n",
      "False\n"
     ]
    }
   ],
   "source": [
    "from datetime import datetime, date, timedelta\n",
    "import pandas as pd\n",
    "import re\n",
    "\n",
    "cust_edi_uuid = \"Y6789\"\n",
    "_s_given = \"_data.loc[_data['UUID'] == '{cust_edi_uuid}']\"\n",
    "''' make a copy of the dataset with _data as the dataset name '''\n",
    "_data = df_data.copy()\n",
    "''' Use regex to replace the PK value to select the rows '''\n",
    "_s_regex = r\"{cust_edi_uuid}\"\n",
    "thisRegex = re.compile(_s_regex, re.IGNORECASE)\n",
    "_given_mask = re.sub(_s_regex, cust_edi_uuid, _s_given)\n",
    "#print(_given_mask)\n",
    "''' execute the given, using, when, and action strings using python eval function '''\n",
    "#print(_data.loc[_data['UUID'] == 'Y6789'])\n",
    "_given_data=eval(_given_mask)\n",
    "print(\"given data\",_given_data)\n",
    "_s_using = \"_given_data[['UUID', 'DISPAT.DATE', 'COMPLETED.DATE', 'CONSOL', 'PORT']]\"\n",
    "_using_data = eval(_s_using)\n",
    "print(\"using data\",_using_data)\n",
    "_s_when=\"_using_data['DISPAT.DATE'] < (pd.to_datetime(date.today())-timedelta(days=30))\"\n",
    "#_s_when = \"_using_data.loc[_using_data['DISPAT.DATE'] < (pd.to_datetime(date.today())-timedelta(days=30))]\"\n",
    "_when_data = eval(_s_when)\n",
    "print(\"when data\",_when_data)\n",
    "#_s_action = \"str(_when_data['ETA'].item())+' '+str(_when_data['CONSOL'].item())+' '+str(_when_data['PORT'].item())\"\n",
    "_s_action = \"_when_data.item()\"\n",
    "_action_data = eval(_s_action)\n",
    "print(\"action data\",_action_data)\n",
    "''' return the computed value'''\n",
    "returnVal = _action_data\n",
    "print(returnVal)"
   ]
  },
  {
   "cell_type": "markdown",
   "id": "c0ae3e52",
   "metadata": {},
   "source": [
    "## Query object class and resolver "
   ]
  },
  {
   "cell_type": "code",
   "execution_count": 154,
   "id": "dd16dac5",
   "metadata": {},
   "outputs": [],
   "source": [
    "class GWTInput(InputObjectType):\n",
    "    given = String(name=\"given\",\n",
    "                   data=String(default_value=\"Select dataset rows\"),\n",
    "                   description=\"given dataset rows to use in the DSL\",\n",
    "                   required=False\n",
    "                  )\n",
    "    using = String(name=\"using\",\n",
    "                   filterCols = String(default_value=\"Select the columns\"),\n",
    "                   description=\"list of columns to use for the data, conditions and action\",\n",
    "                   required=True\n",
    "                  )\n",
    "    when = String(name=\"when\",\n",
    "                   conditions = String(default_value=\"check the conditions\"),\n",
    "                   description=\"apply the conditions to perform the action\",\n",
    "                   required=False\n",
    "                  )\n",
    "    action = String(name=\"action\",\n",
    "                   conditions = String(default_value=\"get the value\"),\n",
    "                   description=\"perform computation action to return the value\",\n",
    "                   required=True\n",
    "                  )\n",
    "\n",
    "class GWT(ObjectType):\n",
    "    given = String(name=\"given\",\n",
    "                   data=String(default_value=\"Select dataset rows\"),\n",
    "                   description=\"given dataset rows to use in the DSL\",\n",
    "                   required=False\n",
    "                  )\n",
    "    using = String(name=\"using\",\n",
    "                   filterCols = String(default_value=\"Select the columns\"),\n",
    "                   description=\"list of columns to use for the data, conditions and action\",\n",
    "                   required=True\n",
    "                  )\n",
    "    when = String(name=\"when\",\n",
    "                   conditions = String(default_value=\"check the conditions\"),\n",
    "                   description=\"apply the conditions to for the action\",\n",
    "                   required=False\n",
    "                  )\n",
    "    action = String(name=\"action\",\n",
    "                   conditions = String(default_value=\"get the value\"),\n",
    "                   description=\"perform computation action to return the value\",\n",
    "                   required=True\n",
    "                  )\n",
    "\n",
    "class PerformAction(Mutation):\n",
    "    from datetime import date\n",
    "    import pandas as pd\n",
    "    import re\n",
    "\n",
    "    class Arguments:\n",
    "        dsl_input = GWTInput(required=True)\n",
    "\n",
    "    returnVal = String()\n",
    "    gwt = Field(GWT)\n",
    "\n",
    "    def mutate(self, info, dsl_input = None):\n",
    "\n",
    "        gwt = GWT(given=dsl_input.given,\n",
    "                     when=dsl_input.when,\n",
    "                     using=dsl_input.using,\n",
    "                     action=dsl_input.action\n",
    "                    )\n",
    "\n",
    "        cust_edi_uuid = \"Y6789\"\n",
    "\n",
    "        ''' make a copy of the dataset with _data as the dataset name '''\n",
    "        _data = df_data.copy()\n",
    "        ''' Use regex to replace the PK value to select the rows '''\n",
    "        _s_regex = r\"{cust_edi_uuid}\"\n",
    "        thisRegex = re.compile(_s_regex, re.IGNORECASE)\n",
    "        _given_mask = re.sub(_s_regex, cust_edi_uuid, gwt.given)\n",
    "        \n",
    "        ''' execute the given, using, when, and action strings using python eval function '''\n",
    "        _given_data=eval(_given_mask)\n",
    "        _using_data = eval(gwt.using)\n",
    "        _when_data = eval(gwt.when)\n",
    "        _action_data = eval(gwt.action)\n",
    "        ''' return the computed value'''\n",
    "        returnVal = _action_data\n",
    "\n",
    "        return PerformAction(gwt=gwt, returnVal=returnVal)\n",
    "\n",
    "class gwtActionMutation(ObjectType):\n",
    "\n",
    "    compute_action = PerformAction.Field()\n",
    "\n",
    "class gwtQuery(ObjectType):\n",
    "    gwt = Field(GWT)\n",
    "    \n",
    "\n"
   ]
  },
  {
   "cell_type": "markdown",
   "id": "17df41ee",
   "metadata": {},
   "source": [
    "## Print the Schema"
   ]
  },
  {
   "cell_type": "code",
   "execution_count": 155,
   "id": "465a2fab",
   "metadata": {},
   "outputs": [
    {
     "name": "stdout",
     "output_type": "stream",
     "text": [
      "schema {\n",
      "  query: gwtQuery\n",
      "  mutation: gwtActionMutation\n",
      "}\n",
      "\n",
      "type gwtQuery {\n",
      "  gwt: GWT\n",
      "}\n",
      "\n",
      "type GWT {\n",
      "  \"\"\"given dataset rows to use in the DSL\"\"\"\n",
      "  given(data: String = \"Select dataset rows\"): String\n",
      "\n",
      "  \"\"\"list of columns to use for the data, conditions and action\"\"\"\n",
      "  using(filterCols: String = \"Select the columns\"): String!\n",
      "\n",
      "  \"\"\"apply the conditions to for the action\"\"\"\n",
      "  when(conditions: String = \"check the conditions\"): String\n",
      "\n",
      "  \"\"\"perform computation action to return the value\"\"\"\n",
      "  action(conditions: String = \"get the value\"): String!\n",
      "}\n",
      "\n",
      "type gwtActionMutation {\n",
      "  computeAction(dslInput: GWTInput!): PerformAction\n",
      "}\n",
      "\n",
      "type PerformAction {\n",
      "  returnVal: String\n",
      "  gwt: GWT\n",
      "}\n",
      "\n",
      "input GWTInput {\n",
      "  \"\"\"given dataset rows to use in the DSL\"\"\"\n",
      "  given: String\n",
      "\n",
      "  \"\"\"list of columns to use for the data, conditions and action\"\"\"\n",
      "  using: String!\n",
      "\n",
      "  \"\"\"apply the conditions to perform the action\"\"\"\n",
      "  when: String\n",
      "\n",
      "  \"\"\"perform computation action to return the value\"\"\"\n",
      "  action: String!\n",
      "}\n"
     ]
    }
   ],
   "source": [
    "schema = Schema(query=gwtQuery, mutation=gwtActionMutation, auto_camelcase = True)\n",
    "print(schema)"
   ]
  },
  {
   "cell_type": "markdown",
   "id": "6e0c728b",
   "metadata": {},
   "source": [
    "## Define the query object\n",
    "This object should be generated at the time of defining the computed column and stored as a JSON. Thereafter, build the ```query_action``` with the ```mutation```\n",
    "\n",
    "### Computed Columns"
   ]
  },
  {
   "cell_type": "code",
   "execution_count": 148,
   "id": "d999968b",
   "metadata": {},
   "outputs": [],
   "source": [
    "query_action = '''\n",
    "mutation someComputedCol {\n",
    "    computeAction(dslInput: \n",
    "    {\n",
    "        given : \"_data.loc[_data['UUID'] == '{cust_edi_uuid}']\"\n",
    "        using : \"_given_data[['UUID', 'ETA', 'ETD', 'CONSOL', 'PORT']]\"\n",
    "        when : \"_using_data.loc[_using_data['ETA'] > pd.to_datetime(date.today())]\"\n",
    "        action : \"str(_when_data['ETA'].item())+' '+str(_when_data['CONSOL'].item())+' '+str(_when_data['PORT'].item())\"\n",
    "        })\n",
    "        {\n",
    "        gwt {\n",
    "            given\n",
    "            when\n",
    "            using\n",
    "            action\n",
    "        }\n",
    "        returnVal\n",
    "    }\n",
    "}\n",
    "'''"
   ]
  },
  {
   "cell_type": "markdown",
   "id": "facb7003",
   "metadata": {},
   "source": [
    "### Completed Sheet"
   ]
  },
  {
   "cell_type": "code",
   "execution_count": 156,
   "id": "fd878767",
   "metadata": {},
   "outputs": [],
   "source": [
    "query_action = '''\n",
    "mutation someComputedCol {\n",
    "    computeAction(dslInput: \n",
    "    {\n",
    "        given : \"_data.loc[_data['UUID'] == '{cust_edi_uuid}']\"\n",
    "        using : \"_given_data[['UUID', 'DISPAT.DATE', 'COMPLETED.DATE', 'CONSOL', 'PORT']]\"\n",
    "        when : \"_using_data['DISPAT.DATE'] < (pd.to_datetime(date.today())-timedelta(days=30))\"\n",
    "        action : \"_when_data.item()\"\n",
    "        })\n",
    "        {\n",
    "        gwt {\n",
    "            given\n",
    "            when\n",
    "            using\n",
    "            action\n",
    "        }\n",
    "        returnVal\n",
    "    }\n",
    "}\n",
    "'''"
   ]
  },
  {
   "cell_type": "markdown",
   "id": "996f396b",
   "metadata": {},
   "source": [
    "## Execute the schema"
   ]
  },
  {
   "cell_type": "code",
   "execution_count": 157,
   "id": "d8756dde",
   "metadata": {},
   "outputs": [
    {
     "name": "stdout",
     "output_type": "stream",
     "text": [
      "{\n",
      "  \"computeAction\": {\n",
      "    \"gwt\": {\n",
      "      \"given\": \"_data.loc[_data['UUID'] == '{cust_edi_uuid}']\",\n",
      "      \"when\": \"_using_data['DISPAT.DATE'] < (pd.to_datetime(date.today())-timedelta(days=30))\",\n",
      "      \"using\": \"_given_data[['UUID', 'DISPAT.DATE', 'COMPLETED.DATE', 'CONSOL', 'PORT']]\",\n",
      "      \"action\": \"_when_data.item()\"\n",
      "    },\n",
      "    \"returnVal\": \"false\"\n",
      "  }\n",
      "}\n"
     ]
    }
   ],
   "source": [
    "action_result = schema.execute(query_action)\n",
    "print(json.dumps(action_result.data,indent=2))"
   ]
  },
  {
   "cell_type": "code",
   "execution_count": null,
   "id": "be9b67db",
   "metadata": {},
   "outputs": [],
   "source": []
  }
 ],
 "metadata": {
  "kernelspec": {
   "display_name": "Python 3 (ipykernel)",
   "language": "python",
   "name": "python3"
  },
  "language_info": {
   "codemirror_mode": {
    "name": "ipython",
    "version": 3
   },
   "file_extension": ".py",
   "mimetype": "text/x-python",
   "name": "python",
   "nbconvert_exporter": "python",
   "pygments_lexer": "ipython3",
   "version": "3.8.10"
  }
 },
 "nbformat": 4,
 "nbformat_minor": 5
}
